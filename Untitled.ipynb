{
 "cells": [
  {
   "cell_type": "markdown",
   "metadata": {},
   "source": [
    "# 데이콘 (Dacon) KBO OPS Forecasting Model - Hakkoma"
   ]
  },
  {
   "cell_type": "markdown",
   "metadata": {},
   "source": [
    "## 1.0 Introduction"
   ]
  },
  {
   "cell_type": "markdown",
   "metadata": {},
   "source": [
    "현재 컨셉은 기존의 OPS 모델을 기반으로 \n",
    "현재의 생각으로는 상관계수로 빌딜을 하여 다르게 가던지 (외부 소스가 가능하다고 하니 KBO 에서 제공하는 반발계수가 사용가능하다는생각)\n",
    "그렇지 않으면 기존의 모델을 test를 다수로 하여 만들예정\n",
    "  \n",
    "1. **Difference in train set and test set**  \n",
    "트레인셋과 테스트 셋의 차이를 두고 비교 분석 하여 정확도 기준 수치인 (RMSE)로 비교후 더 좋은 퍼포먼스를 가진 모델 선택  \n",
    "(ex. ~ 2016 년 트레인, 2017-2018 테스트 *혹은* ~2017년 트레인, 2018 테스트)  \n",
    "**기본으로는 75%~80% 의 데이터를 트레인으로 기반한다  \n",
    "  \n",
    "  \n",
    "2. **반발계수 (현재 선택)**  \n",
    "2019년의 경우 반발계수가 공인구의 반발계수가 바뀌게 된다  \n",
    "*자료 http://mn.kbs.co.kr/news/view.do?ncd=4126239*  \n",
    "현재 선수들의 경우 체감상 타자 보다 투수의 반발이 더 심한 상황이라 어떻게 영향을 미칠 지는 미지수  \n",
    "이 방법을 택학 경우 **현재까지 사용된 모든 공의 반발계수가 필요함**  \n",
    "  \n",
    "  \n",
    "3. **추후예정** "
   ]
  },
  {
   "cell_type": "code",
   "execution_count": null,
   "metadata": {},
   "outputs": [],
   "source": []
  }
 ],
 "metadata": {
  "kernelspec": {
   "display_name": "Python 3",
   "language": "python",
   "name": "python3"
  },
  "language_info": {
   "codemirror_mode": {
    "name": "ipython",
    "version": 3
   },
   "file_extension": ".py",
   "mimetype": "text/x-python",
   "name": "python",
   "nbconvert_exporter": "python",
   "pygments_lexer": "ipython3",
   "version": "3.5.6"
  }
 },
 "nbformat": 4,
 "nbformat_minor": 2
}
